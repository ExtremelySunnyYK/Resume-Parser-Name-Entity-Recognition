{
 "cells": [
  {
   "cell_type": "code",
   "execution_count": null,
   "metadata": {},
   "outputs": [],
   "source": [
    "import pandas as pd\n",
    "import numpy as np\n",
    "import nltk\n",
    "nltk.download('wordnet')\n",
    "nltk.download('punkt')\n",
    "from nltk.corpus import stopwords\n",
    "from nltk import word_tokenize          \n",
    "from nltk.stem import WordNetLemmatizer \n",
    "import re\n",
    "import sys\n",
    "sys.path.append('../resume_parser/')\n",
    "import resume_parser\n",
    "# from resume_parser import resume_parser\n",
    "import os\n",
    "os.listdir(\"../data/resume\")\n",
    "\n",
    "jd_path = \"../data/JD/Software Engineer Intern in ML Engineering Platform (System) - 2021 Summer - ByteDance.pdf\"\n",
    "resume_path = \"../data/resume/ivan_machine_learning_engineer.pdf\"\n",
    "job_description = resume_parser.get_text(jd_path)\n",
    "resume = resume_parser.get_text(resume_path)\n",
    "\n",
    "\n",
    "\n",
    "\n"
   ]
  },
  {
   "cell_type": "code",
   "execution_count": null,
   "metadata": {},
   "outputs": [],
   "source": [
    "# A list of text\n",
    "def clean_text(text):\n",
    "    text = re.sub(r'[0-9]', '',text).replace(u'\\xa0', u' ')\n",
    "    return text\n",
    "\n",
    "\n",
    "resume,job_description = clean_text(resume),clean_text(job_description)\n",
    "text = [resume, job_description]\n",
    "\n",
    "\n",
    "predefined_stop_words = [\"the\",\"a\",\"is\",\"you\",\"your\",\"will\"]\n",
    "\n",
    "stop_words = list(set(stopwords.words('english'))) + predefined_stop_words"
   ]
  }
 ],
 "metadata": {
  "kernelspec": {
   "display_name": "env",
   "language": "python",
   "name": "env"
  },
  "language_info": {
   "codemirror_mode": {
    "name": "ipython",
    "version": 3
   },
   "file_extension": ".py",
   "mimetype": "text/x-python",
   "name": "python",
   "nbconvert_exporter": "python",
   "pygments_lexer": "ipython3",
   "version": "3.7.7"
  }
 },
 "nbformat": 4,
 "nbformat_minor": 4
}
